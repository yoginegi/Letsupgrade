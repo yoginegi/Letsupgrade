x = input("Enter the number: ")
try:
    if int(x) % 2 == 0:
        print("The number is even")
    else:
        print("The number is odd")
except:
    print("Enter a valid number")
