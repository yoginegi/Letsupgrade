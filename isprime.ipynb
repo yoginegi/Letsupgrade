def isprime(num):                                                                 
    for i in range(2, num):                                                       
        if num % i == 0:                                                          
            print("The number " + str(num) + " is not a prime number.")           
            break                                                                 
    else:                                                                         
        print("The number " + str(num) + " is a prime number.")                   
                                                                                  
                                                                                  
isprime(111)                                                                      
